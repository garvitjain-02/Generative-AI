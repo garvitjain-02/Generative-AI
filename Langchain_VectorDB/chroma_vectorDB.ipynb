{
  "cells": [
    {
      "cell_type": "code",
      "execution_count": 3,
      "metadata": {
        "id": "PdqVW8jcTgDa"
      },
      "outputs": [],
      "source": [
        "# !pip install langchain chromadb openai tiktoken pypdf langchain_openai langchain-community"
      ]
    },
    {
      "cell_type": "code",
      "execution_count": null,
      "metadata": {
        "id": "549e8825"
      },
      "outputs": [],
      "source": [
        "!pip install google-generativeai langchain chromadb --quiet\n",
        "\n",
        "import google.generativeai as genai\n",
        "from langchain.vectorstores import Chroma\n",
        "from langchain.embeddings.base import Embeddings\n",
        "\n",
        "genai.configure(api_key=\"YOUR_API_KEY\")\n",
        "\n",
        "class GeminiEmbeddingFunction(Embeddings):\n",
        "    def embed_documents(self, texts):\n",
        "        return [\n",
        "            genai.embed_content(\n",
        "                model=\"models/embedding-001\",\n",
        "                content=text,\n",
        "                task_type=\"retrieval_document\"\n",
        "            )[\"embedding\"] for text in texts\n",
        "        ]\n",
        "    def embed_query(self, text):\n",
        "        return genai.embed_content(\n",
        "            model=\"models/embedding-001\",\n",
        "            content=text,\n",
        "            task_type=\"retrieval_query\"\n",
        "        )[\"embedding\"]\n"
      ]
    },
    {
      "cell_type": "code",
      "execution_count": 5,
      "metadata": {
        "id": "FpqDxoo-28TT"
      },
      "outputs": [],
      "source": [
        "from langchain.schema import Document\n",
        "\n",
        "# Create LangChain documents for IPL players\n",
        "\n",
        "doc1 = Document(\n",
        "        page_content=\"Virat Kohli is one of the most successful and consistent batsmen in IPL history. Known for his aggressive batting style and fitness, he has led the Royal Challengers Bangalore in multiple seasons.\",\n",
        "        metadata={\"team\": \"Royal Challengers Bangalore\"}\n",
        "    )\n",
        "doc2 = Document(\n",
        "        page_content=\"Rohit Sharma is the most successful captain in IPL history, leading Mumbai Indians to five titles. He's known for his calm demeanor and ability to play big innings under pressure.\",\n",
        "        metadata={\"team\": \"Mumbai Indians\"}\n",
        "    )\n",
        "doc3 = Document(\n",
        "        page_content=\"MS Dhoni, famously known as Captain Cool, has led Chennai Super Kings to multiple IPL titles. His finishing skills, wicketkeeping, and leadership are legendary.\",\n",
        "        metadata={\"team\": \"Chennai Super Kings\"}\n",
        "    )\n",
        "doc4 = Document(\n",
        "        page_content=\"Jasprit Bumrah is considered one of the best fast bowlers in T20 cricket. Playing for Mumbai Indians, he is known for his yorkers and death-over expertise.\",\n",
        "        metadata={\"team\": \"Mumbai Indians\"}\n",
        "    )\n",
        "doc5 = Document(\n",
        "        page_content=\"Ravindra Jadeja is a dynamic all-rounder who contributes with both bat and ball. Representing Chennai Super Kings, his quick fielding and match-winning performances make him a key player.\",\n",
        "        metadata={\"team\": \"Chennai Super Kings\"}\n",
        "    )\n"
      ]
    },
    {
      "cell_type": "code",
      "execution_count": 6,
      "metadata": {
        "id": "8gHb9o9Y3lfL"
      },
      "outputs": [],
      "source": [
        "docs = [doc1, doc2, doc3, doc4, doc5]"
      ]
    },
    {
      "cell_type": "code",
      "execution_count": 7,
      "metadata": {
        "colab": {
          "base_uri": "https://localhost:8080/"
        },
        "id": "iV6FpO7dUCvU",
        "outputId": "158fa60d-be59-40f6-e5ba-a0e5a1334b86"
      },
      "outputs": [
        {
          "name": "stderr",
          "output_type": "stream",
          "text": [
            "/tmp/ipython-input-7-337313879.py:1: LangChainDeprecationWarning: The class `Chroma` was deprecated in LangChain 0.2.9 and will be removed in 1.0. An updated version of the class exists in the :class:`~langchain-chroma package and should be used instead. To use it run `pip install -U :class:`~langchain-chroma` and import as `from :class:`~langchain_chroma import Chroma``.\n",
            "  vector_store = Chroma(\n"
          ]
        }
      ],
      "source": [
        "vector_store = Chroma(\n",
        "    embedding_function=GeminiEmbeddingFunction(),\n",
        "    persist_directory='my_chroma_db',\n",
        "    collection_name='sample'\n",
        ")"
      ]
    },
    {
      "cell_type": "code",
      "execution_count": 8,
      "metadata": {
        "colab": {
          "base_uri": "https://localhost:8080/",
          "height": 104
        },
        "id": "HY1WWRs3gLua",
        "outputId": "941ff611-3419-459e-f3bf-0049f016c5c0"
      },
      "outputs": [
        {
          "data": {
            "text/plain": [
              "['58347991-ad64-46d5-95a0-4b6a4aca228f',\n",
              " '341e9d70-4012-4cf4-9302-f13c5c22e0de',\n",
              " 'd0257ea8-4603-41c7-8c1e-3ceea72e0d20',\n",
              " 'de9215d1-60ef-4bf4-a03d-d8aaab6e72c2',\n",
              " 'dbc7a3a6-9e23-436f-9154-4eef77fa90c3']"
            ]
          },
          "execution_count": 8,
          "metadata": {},
          "output_type": "execute_result"
        }
      ],
      "source": [
        "# add documents\n",
        "vector_store.add_documents(docs)"
      ]
    },
    {
      "cell_type": "code",
      "execution_count": 9,
      "metadata": {
        "colab": {
          "base_uri": "https://localhost:8080/"
        },
        "id": "nG7XjDXwg0JZ",
        "outputId": "ce7485d4-a4c7-4d5e-c9c1-c8b4547b25fe"
      },
      "outputs": [
        {
          "data": {
            "text/plain": [
              "{'ids': ['58347991-ad64-46d5-95a0-4b6a4aca228f',\n",
              "  '341e9d70-4012-4cf4-9302-f13c5c22e0de',\n",
              "  'd0257ea8-4603-41c7-8c1e-3ceea72e0d20',\n",
              "  'de9215d1-60ef-4bf4-a03d-d8aaab6e72c2',\n",
              "  'dbc7a3a6-9e23-436f-9154-4eef77fa90c3'],\n",
              " 'embeddings': array([[ 1.35614481e-02, -7.62679800e-03, -2.51727290e-02, ...,\n",
              "          1.35761239e-02,  3.51136659e-05, -7.35754846e-03],\n",
              "        [ 3.18830460e-02, -3.36795598e-02, -4.39120680e-02, ...,\n",
              "          1.08157219e-02, -1.05898809e-02, -1.52005616e-03],\n",
              "        [ 1.58164389e-02,  3.38992523e-03, -2.23509353e-02, ...,\n",
              "          1.95286470e-03, -7.18898326e-02, -8.88233818e-03],\n",
              "        [ 1.01624681e-02, -5.16264960e-02, -2.89599448e-02, ...,\n",
              "          3.29840817e-02, -2.09922232e-02,  1.78275332e-02],\n",
              "        [-8.94617348e-04,  1.97164640e-02, -9.64438636e-03, ...,\n",
              "          2.34126463e-03, -1.33365402e-02, -1.25717660e-02]]),\n",
              " 'documents': ['Virat Kohli is one of the most successful and consistent batsmen in IPL history. Known for his aggressive batting style and fitness, he has led the Royal Challengers Bangalore in multiple seasons.',\n",
              "  \"Rohit Sharma is the most successful captain in IPL history, leading Mumbai Indians to five titles. He's known for his calm demeanor and ability to play big innings under pressure.\",\n",
              "  'MS Dhoni, famously known as Captain Cool, has led Chennai Super Kings to multiple IPL titles. His finishing skills, wicketkeeping, and leadership are legendary.',\n",
              "  'Jasprit Bumrah is considered one of the best fast bowlers in T20 cricket. Playing for Mumbai Indians, he is known for his yorkers and death-over expertise.',\n",
              "  'Ravindra Jadeja is a dynamic all-rounder who contributes with both bat and ball. Representing Chennai Super Kings, his quick fielding and match-winning performances make him a key player.'],\n",
              " 'uris': None,\n",
              " 'included': ['embeddings', 'documents', 'metadatas'],\n",
              " 'data': None,\n",
              " 'metadatas': [{'team': 'Royal Challengers Bangalore'},\n",
              "  {'team': 'Mumbai Indians'},\n",
              "  {'team': 'Chennai Super Kings'},\n",
              "  {'team': 'Mumbai Indians'},\n",
              "  {'team': 'Chennai Super Kings'}]}"
            ]
          },
          "execution_count": 9,
          "metadata": {},
          "output_type": "execute_result"
        }
      ],
      "source": [
        "# view documents\n",
        "vector_store.get(include=['embeddings','documents', 'metadatas'])"
      ]
    },
    {
      "cell_type": "code",
      "execution_count": 12,
      "metadata": {
        "colab": {
          "base_uri": "https://localhost:8080/",
          "height": 86
        },
        "id": "LU-W9_9Jg3l3",
        "outputId": "5f084718-2578-4111-e080-f208fb7a742f"
      },
      "outputs": [
        {
          "data": {
            "text/plain": [
              "[Document(metadata={'team': 'Mumbai Indians'}, page_content='Jasprit Bumrah is considered one of the best fast bowlers in T20 cricket. Playing for Mumbai Indians, he is known for his yorkers and death-over expertise.'),\n",
              " Document(metadata={'team': 'Royal Challengers Bangalore'}, page_content='Virat Kohli is one of the most successful and consistent batsmen in IPL history. Known for his aggressive batting style and fitness, he has led the Royal Challengers Bangalore in multiple seasons.')]"
            ]
          },
          "execution_count": 12,
          "metadata": {},
          "output_type": "execute_result"
        }
      ],
      "source": [
        "# search documents\n",
        "vector_store.similarity_search(\n",
        "    query='Who among these are a bowler?',\n",
        "    k=2\n",
        ")"
      ]
    },
    {
      "cell_type": "code",
      "execution_count": 13,
      "metadata": {
        "colab": {
          "base_uri": "https://localhost:8080/",
          "height": 121
        },
        "id": "fRVVrXeag_MI",
        "outputId": "6ca33705-0dde-4bc3-82cd-3032c97ffe10"
      },
      "outputs": [
        {
          "data": {
            "text/plain": [
              "[(Document(metadata={'team': 'Mumbai Indians'}, page_content='Jasprit Bumrah is considered one of the best fast bowlers in T20 cricket. Playing for Mumbai Indians, he is known for his yorkers and death-over expertise.'),\n",
              "  0.770696222782135),\n",
              " (Document(metadata={'team': 'Royal Challengers Bangalore'}, page_content='Virat Kohli is one of the most successful and consistent batsmen in IPL history. Known for his aggressive batting style and fitness, he has led the Royal Challengers Bangalore in multiple seasons.'),\n",
              "  0.8030722737312317)]"
            ]
          },
          "execution_count": 13,
          "metadata": {},
          "output_type": "execute_result"
        }
      ],
      "source": [
        "# search with similarity score\n",
        "vector_store.similarity_search_with_score(\n",
        "    query='Who among these are a bowler?',\n",
        "    k=2\n",
        ")"
      ]
    },
    {
      "cell_type": "code",
      "execution_count": 15,
      "metadata": {
        "colab": {
          "base_uri": "https://localhost:8080/",
          "height": 121
        },
        "id": "NS6pINjhjldB",
        "outputId": "0306dcb3-3549-4737-aa8f-fe9d5a86c7e2"
      },
      "outputs": [
        {
          "data": {
            "text/plain": [
              "[(Document(metadata={'team': 'Chennai Super Kings'}, page_content='Ravindra Jadeja is a dynamic all-rounder who contributes with both bat and ball. Representing Chennai Super Kings, his quick fielding and match-winning performances make him a key player.'),\n",
              "  0.871087908744812),\n",
              " (Document(metadata={'team': 'Chennai Super Kings'}, page_content='MS Dhoni, famously known as Captain Cool, has led Chennai Super Kings to multiple IPL titles. His finishing skills, wicketkeeping, and leadership are legendary.'),\n",
              "  0.8778100609779358)]"
            ]
          },
          "execution_count": 15,
          "metadata": {},
          "output_type": "execute_result"
        }
      ],
      "source": [
        "# meta-data filtering\n",
        "vector_store.similarity_search_with_score(\n",
        "    query=\" \",\n",
        "    filter={\"team\": \"Chennai Super Kings\"}\n",
        ")"
      ]
    },
    {
      "cell_type": "code",
      "execution_count": 16,
      "metadata": {
        "id": "5EXWk0T26qat"
      },
      "outputs": [],
      "source": [
        "# update documents\n",
        "updated_doc1 = Document(\n",
        "    page_content=\"Virat Kohli, the former captain of Royal Challengers Bangalore (RCB), is renowned for his aggressive leadership and consistent batting performances. He holds the record for the most runs in IPL history, including multiple centuries in a single season. Despite RCB not winning an IPL title under his captaincy, Kohli's passion and fitness set a benchmark for the league. His ability to chase targets and anchor innings has made him one of the most dependable players in T20 cricket.\",\n",
        "    metadata={\"team\": \"Royal Challengers Bangalore\"}\n",
        ")\n",
        "\n",
        "vector_store.update_document(document_id='09a39dc6-3ba6-4ea7-927e-fdda591da5e4', document=updated_doc1)\n"
      ]
    },
    {
      "cell_type": "code",
      "execution_count": 17,
      "metadata": {
        "colab": {
          "base_uri": "https://localhost:8080/"
        },
        "id": "vkB9Yd_O7oEl",
        "outputId": "a8b7b634-988a-4095-c20c-3d6488b9394f"
      },
      "outputs": [
        {
          "data": {
            "text/plain": [
              "{'ids': ['58347991-ad64-46d5-95a0-4b6a4aca228f',\n",
              "  '341e9d70-4012-4cf4-9302-f13c5c22e0de',\n",
              "  'd0257ea8-4603-41c7-8c1e-3ceea72e0d20',\n",
              "  'de9215d1-60ef-4bf4-a03d-d8aaab6e72c2',\n",
              "  'dbc7a3a6-9e23-436f-9154-4eef77fa90c3'],\n",
              " 'embeddings': array([[ 1.35614481e-02, -7.62679800e-03, -2.51727290e-02, ...,\n",
              "          1.35761239e-02,  3.51136659e-05, -7.35754846e-03],\n",
              "        [ 3.18830460e-02, -3.36795598e-02, -4.39120680e-02, ...,\n",
              "          1.08157219e-02, -1.05898809e-02, -1.52005616e-03],\n",
              "        [ 1.58164389e-02,  3.38992523e-03, -2.23509353e-02, ...,\n",
              "          1.95286470e-03, -7.18898326e-02, -8.88233818e-03],\n",
              "        [ 1.01624681e-02, -5.16264960e-02, -2.89599448e-02, ...,\n",
              "          3.29840817e-02, -2.09922232e-02,  1.78275332e-02],\n",
              "        [-8.94617348e-04,  1.97164640e-02, -9.64438636e-03, ...,\n",
              "          2.34126463e-03, -1.33365402e-02, -1.25717660e-02]]),\n",
              " 'documents': ['Virat Kohli is one of the most successful and consistent batsmen in IPL history. Known for his aggressive batting style and fitness, he has led the Royal Challengers Bangalore in multiple seasons.',\n",
              "  \"Rohit Sharma is the most successful captain in IPL history, leading Mumbai Indians to five titles. He's known for his calm demeanor and ability to play big innings under pressure.\",\n",
              "  'MS Dhoni, famously known as Captain Cool, has led Chennai Super Kings to multiple IPL titles. His finishing skills, wicketkeeping, and leadership are legendary.',\n",
              "  'Jasprit Bumrah is considered one of the best fast bowlers in T20 cricket. Playing for Mumbai Indians, he is known for his yorkers and death-over expertise.',\n",
              "  'Ravindra Jadeja is a dynamic all-rounder who contributes with both bat and ball. Representing Chennai Super Kings, his quick fielding and match-winning performances make him a key player.'],\n",
              " 'uris': None,\n",
              " 'included': ['embeddings', 'documents', 'metadatas'],\n",
              " 'data': None,\n",
              " 'metadatas': [{'team': 'Royal Challengers Bangalore'},\n",
              "  {'team': 'Mumbai Indians'},\n",
              "  {'team': 'Chennai Super Kings'},\n",
              "  {'team': 'Mumbai Indians'},\n",
              "  {'team': 'Chennai Super Kings'}]}"
            ]
          },
          "execution_count": 17,
          "metadata": {},
          "output_type": "execute_result"
        }
      ],
      "source": [
        "# view documents\n",
        "vector_store.get(include=['embeddings','documents', 'metadatas'])"
      ]
    },
    {
      "cell_type": "code",
      "execution_count": 18,
      "metadata": {
        "id": "JfP7Gkgc7r4A"
      },
      "outputs": [],
      "source": [
        "# delete document\n",
        "vector_store.delete(ids=['09a39dc6-3ba6-4ea7-927e-fdda591da5e4'])"
      ]
    },
    {
      "cell_type": "code",
      "execution_count": 19,
      "metadata": {
        "colab": {
          "base_uri": "https://localhost:8080/"
        },
        "id": "Z8kVJ9UX76tG",
        "outputId": "ae05605b-da50-4699-e881-e00beb2d349f"
      },
      "outputs": [
        {
          "data": {
            "text/plain": [
              "{'ids': ['58347991-ad64-46d5-95a0-4b6a4aca228f',\n",
              "  '341e9d70-4012-4cf4-9302-f13c5c22e0de',\n",
              "  'd0257ea8-4603-41c7-8c1e-3ceea72e0d20',\n",
              "  'de9215d1-60ef-4bf4-a03d-d8aaab6e72c2',\n",
              "  'dbc7a3a6-9e23-436f-9154-4eef77fa90c3'],\n",
              " 'embeddings': array([[ 1.35614481e-02, -7.62679800e-03, -2.51727290e-02, ...,\n",
              "          1.35761239e-02,  3.51136659e-05, -7.35754846e-03],\n",
              "        [ 3.18830460e-02, -3.36795598e-02, -4.39120680e-02, ...,\n",
              "          1.08157219e-02, -1.05898809e-02, -1.52005616e-03],\n",
              "        [ 1.58164389e-02,  3.38992523e-03, -2.23509353e-02, ...,\n",
              "          1.95286470e-03, -7.18898326e-02, -8.88233818e-03],\n",
              "        [ 1.01624681e-02, -5.16264960e-02, -2.89599448e-02, ...,\n",
              "          3.29840817e-02, -2.09922232e-02,  1.78275332e-02],\n",
              "        [-8.94617348e-04,  1.97164640e-02, -9.64438636e-03, ...,\n",
              "          2.34126463e-03, -1.33365402e-02, -1.25717660e-02]]),\n",
              " 'documents': ['Virat Kohli is one of the most successful and consistent batsmen in IPL history. Known for his aggressive batting style and fitness, he has led the Royal Challengers Bangalore in multiple seasons.',\n",
              "  \"Rohit Sharma is the most successful captain in IPL history, leading Mumbai Indians to five titles. He's known for his calm demeanor and ability to play big innings under pressure.\",\n",
              "  'MS Dhoni, famously known as Captain Cool, has led Chennai Super Kings to multiple IPL titles. His finishing skills, wicketkeeping, and leadership are legendary.',\n",
              "  'Jasprit Bumrah is considered one of the best fast bowlers in T20 cricket. Playing for Mumbai Indians, he is known for his yorkers and death-over expertise.',\n",
              "  'Ravindra Jadeja is a dynamic all-rounder who contributes with both bat and ball. Representing Chennai Super Kings, his quick fielding and match-winning performances make him a key player.'],\n",
              " 'uris': None,\n",
              " 'included': ['embeddings', 'documents', 'metadatas'],\n",
              " 'data': None,\n",
              " 'metadatas': [{'team': 'Royal Challengers Bangalore'},\n",
              "  {'team': 'Mumbai Indians'},\n",
              "  {'team': 'Chennai Super Kings'},\n",
              "  {'team': 'Mumbai Indians'},\n",
              "  {'team': 'Chennai Super Kings'}]}"
            ]
          },
          "execution_count": 19,
          "metadata": {},
          "output_type": "execute_result"
        }
      ],
      "source": [
        "# view documents\n",
        "vector_store.get(include=['embeddings','documents', 'metadatas'])"
      ]
    },
    {
      "cell_type": "code",
      "execution_count": null,
      "metadata": {
        "id": "Hg--cFdi79CV"
      },
      "outputs": [],
      "source": []
    }
  ],
  "metadata": {
    "colab": {
      "provenance": []
    },
    "kernelspec": {
      "display_name": "Python 3",
      "name": "python3"
    },
    "language_info": {
      "name": "python"
    }
  },
  "nbformat": 4,
  "nbformat_minor": 0
}
